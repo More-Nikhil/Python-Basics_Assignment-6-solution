{
 "cells": [
  {
   "cell_type": "markdown",
   "id": "b0a59030-53da-4b55-82ee-1551e198a934",
   "metadata": {},
   "source": [
    "1. What are escape characters, and how do you use them?\n",
    "\n",
    "ANS: An escape character is a backslash \\ followed by the character you want to insert. This is used to insert something in a double quote(eg. \"Summer\")."
   ]
  },
  {
   "cell_type": "code",
   "execution_count": 2,
   "id": "f33f061c-86ec-4afe-8728-c5814fc99b6f",
   "metadata": {},
   "outputs": [
    {
     "ename": "SyntaxError",
     "evalue": "invalid syntax. Perhaps you forgot a comma? (1795445992.py, line 1)",
     "output_type": "error",
     "traceback": [
      "\u001b[0;36m  Cell \u001b[0;32mIn [2], line 1\u001b[0;36m\u001b[0m\n\u001b[0;31m    print(\"This \"Summer\" is really so hot\")\u001b[0m\n\u001b[0m          ^\u001b[0m\n\u001b[0;31mSyntaxError\u001b[0m\u001b[0;31m:\u001b[0m invalid syntax. Perhaps you forgot a comma?\n"
     ]
    }
   ],
   "source": [
    "print(\"This \"Summer\" is really so hot\")"
   ]
  },
  {
   "cell_type": "code",
   "execution_count": 4,
   "id": "786383b8-201c-4017-943b-5abf1846158f",
   "metadata": {},
   "outputs": [
    {
     "name": "stdout",
     "output_type": "stream",
     "text": [
      "This \"Summer\" is really so hot.\n"
     ]
    }
   ],
   "source": [
    "print(\"This \\\"Summer\\\" is really so hot.\")"
   ]
  },
  {
   "cell_type": "markdown",
   "id": "bef5e71f-2402-4af4-8af4-e38aaf3b0990",
   "metadata": {},
   "source": [
    "2. What do the escape characters n and t stand for?\n",
    "\n",
    "ANS: \\n means new line and \\t means tab."
   ]
  },
  {
   "cell_type": "markdown",
   "id": "021c42f9-1ea2-47bd-a5c4-556b109731d7",
   "metadata": {},
   "source": [
    "3. What is the way to include backslash characters in a string?\n",
    "\n",
    "Ans: By using escape characters."
   ]
  },
  {
   "cell_type": "code",
   "execution_count": 5,
   "id": "36450797-4c34-4a55-8593-bb8aa8ec9e11",
   "metadata": {},
   "outputs": [
    {
     "name": "stdout",
     "output_type": "stream",
     "text": [
      "This \"Summer\" is really so hot.\n"
     ]
    }
   ],
   "source": [
    "print(\"This \\\"Summer\\\" is really so hot.\")"
   ]
  },
  {
   "cell_type": "markdown",
   "id": "2f8c0e52-cb62-496c-b1a9-2c4ea8ba9361",
   "metadata": {},
   "source": [
    "4. The string \"Howl's Moving Castle\" is a correct value. Why isn't the single quote character in the word Howl's not escaped a problem?\n",
    "\n",
    "Ans: Because \"Howl's Moving Castle\" sentense is in double quotes(\" \"). It will consider double quotes as main."
   ]
  },
  {
   "cell_type": "markdown",
   "id": "d07dd8d8-6b4d-41f7-99de-d426cfad1ed3",
   "metadata": {},
   "source": [
    "5. How do you write a string of newlines if you don't want to use the n character?\n",
    "\n",
    "Ans: By sung end=\" \""
   ]
  },
  {
   "cell_type": "markdown",
   "id": "03552f6d-85d6-42c1-803c-d057e53c977a",
   "metadata": {},
   "source": [
    "6. What are the values of the given expressions?"
   ]
  },
  {
   "cell_type": "code",
   "execution_count": 6,
   "id": "a0197f77-f40f-48dc-9c64-267d7153f336",
   "metadata": {},
   "outputs": [
    {
     "data": {
      "text/plain": [
       "'e'"
      ]
     },
     "execution_count": 6,
     "metadata": {},
     "output_type": "execute_result"
    }
   ],
   "source": [
    "'Hello, world!'[1]"
   ]
  },
  {
   "cell_type": "code",
   "execution_count": 7,
   "id": "dd1965ce-ed03-40ba-8303-cd88817399de",
   "metadata": {},
   "outputs": [
    {
     "data": {
      "text/plain": [
       "'Hello'"
      ]
     },
     "execution_count": 7,
     "metadata": {},
     "output_type": "execute_result"
    }
   ],
   "source": [
    "'Hello, world!'[0:5]"
   ]
  },
  {
   "cell_type": "code",
   "execution_count": 8,
   "id": "572106dd-d698-451e-9d72-b2fe24c99e97",
   "metadata": {},
   "outputs": [
    {
     "data": {
      "text/plain": [
       "'Hello'"
      ]
     },
     "execution_count": 8,
     "metadata": {},
     "output_type": "execute_result"
    }
   ],
   "source": [
    "'Hello, world!'[:5]"
   ]
  },
  {
   "cell_type": "code",
   "execution_count": 9,
   "id": "d809f442-1c60-4f68-acef-180eee4801af",
   "metadata": {},
   "outputs": [
    {
     "data": {
      "text/plain": [
       "'lo, world!'"
      ]
     },
     "execution_count": 9,
     "metadata": {},
     "output_type": "execute_result"
    }
   ],
   "source": [
    "'Hello, world!'[3:]"
   ]
  },
  {
   "cell_type": "markdown",
   "id": "6c5a3976-e1c4-4dbc-b351-afa43ce9bc62",
   "metadata": {},
   "source": [
    "7. What are the values of the following expressions?"
   ]
  },
  {
   "cell_type": "code",
   "execution_count": 11,
   "id": "24f826e5-ab49-48dd-bf3c-3c717e638bd3",
   "metadata": {},
   "outputs": [
    {
     "data": {
      "text/plain": [
       "'HELLO'"
      ]
     },
     "execution_count": 11,
     "metadata": {},
     "output_type": "execute_result"
    }
   ],
   "source": [
    "'Hello'.upper()"
   ]
  },
  {
   "cell_type": "code",
   "execution_count": 12,
   "id": "44e92309-c88d-43f1-b7cf-a56f5aa82bcf",
   "metadata": {},
   "outputs": [
    {
     "data": {
      "text/plain": [
       "True"
      ]
     },
     "execution_count": 12,
     "metadata": {},
     "output_type": "execute_result"
    }
   ],
   "source": [
    "'Hello'.upper().isupper()"
   ]
  },
  {
   "cell_type": "code",
   "execution_count": 13,
   "id": "2a29bf45-4af5-4189-b119-492efde07551",
   "metadata": {},
   "outputs": [
    {
     "data": {
      "text/plain": [
       "'hello'"
      ]
     },
     "execution_count": 13,
     "metadata": {},
     "output_type": "execute_result"
    }
   ],
   "source": [
    "'Hello'.upper().lower()"
   ]
  },
  {
   "cell_type": "markdown",
   "id": "57d43c28-9495-4fa1-9839-fb82913f2db9",
   "metadata": {},
   "source": [
    "8. What are the values of the following expressions?"
   ]
  },
  {
   "cell_type": "code",
   "execution_count": null,
   "id": "a7412508-035b-4634-9448-e88e13be8cb8",
   "metadata": {},
   "outputs": [],
   "source": [
    "'Remember, remember, the fifth of July.'.split()\n",
    "'-'.join('There can only one.'.split())\n"
   ]
  },
  {
   "cell_type": "code",
   "execution_count": null,
   "id": "4441732f-d227-40cf-a179-2e5b407cb389",
   "metadata": {},
   "outputs": [],
   "source": []
  },
  {
   "cell_type": "code",
   "execution_count": null,
   "id": "4f9bf34f-e82d-428b-8a17-b4d00853b590",
   "metadata": {},
   "outputs": [],
   "source": []
  },
  {
   "cell_type": "code",
   "execution_count": null,
   "id": "900fadcc-6b42-4b14-907f-5fba70eedc45",
   "metadata": {},
   "outputs": [],
   "source": []
  }
 ],
 "metadata": {
  "kernelspec": {
   "display_name": "Python 3 (ipykernel)",
   "language": "python",
   "name": "python3"
  },
  "language_info": {
   "codemirror_mode": {
    "name": "ipython",
    "version": 3
   },
   "file_extension": ".py",
   "mimetype": "text/x-python",
   "name": "python",
   "nbconvert_exporter": "python",
   "pygments_lexer": "ipython3",
   "version": "3.10.6"
  }
 },
 "nbformat": 4,
 "nbformat_minor": 5
}
